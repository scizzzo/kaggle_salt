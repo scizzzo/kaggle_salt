{
 "cells": [
  {
   "cell_type": "code",
   "execution_count": 7,
   "metadata": {
    "collapsed": true
   },
   "outputs": [
    {
     "name": "stdout",
     "output_type": "stream",
     "text": [
      "Collecting pandas\n",
      "  Downloading pandas-0.22.0-cp35-cp35m-manylinux1_x86_64.whl (25.7MB)\n",
      "\u001b[K    100% |################################| 25.7MB 62kB/s eta 0:00:01  4% |#                               | 1.2MB 3.9MB/s eta 0:00:07    38% |############                    | 9.9MB 6.2MB/s eta 0:00:03\n",
      "\u001b[?25hRequirement already satisfied (use --upgrade to upgrade): pytz>=2011k in /opt/conda/lib/python3.5/site-packages (from pandas)\n",
      "Requirement already satisfied (use --upgrade to upgrade): numpy>=1.9.0 in /opt/conda/lib/python3.5/site-packages (from pandas)\n",
      "Requirement already satisfied (use --upgrade to upgrade): python-dateutil>=2 in /opt/conda/lib/python3.5/site-packages (from pandas)\n",
      "Requirement already satisfied (use --upgrade to upgrade): six>=1.5 in /opt/conda/lib/python3.5/site-packages (from python-dateutil>=2->pandas)\n",
      "Installing collected packages: pandas\n",
      "Successfully installed pandas-0.22.0\n",
      "\u001b[33mYou are using pip version 8.1.2, however version 9.0.1 is available.\n",
      "You should consider upgrading via the 'pip install --upgrade pip' command.\u001b[0m\n"
     ]
    }
   ],
   "source": [
    "!pip install pandas"
   ]
  },
  {
   "cell_type": "code",
   "execution_count": 49,
   "metadata": {
    "collapsed": true,
    "scrolled": true
   },
   "outputs": [],
   "source": [
    "import cv2\n",
    "import os\n",
    "import sklearn\n",
    "import numpy as np\n",
    "import pandas as pd\n",
    "from sklearn.model_selection import StratifiedKFold"
   ]
  },
  {
   "cell_type": "code",
   "execution_count": 9,
   "metadata": {
    "collapsed": true
   },
   "outputs": [],
   "source": [
    "labels_name = os.listdir('./data/train/')"
   ]
  },
  {
   "cell_type": "code",
   "execution_count": 10,
   "metadata": {},
   "outputs": [
    {
     "data": {
      "text/plain": [
       "['iPhone-6',\n",
       " 'HTC-1-M7',\n",
       " 'Motorola-Nexus-6',\n",
       " 'Sony-NEX-7',\n",
       " 'iPhone-4s',\n",
       " 'Samsung-Galaxy-Note3',\n",
       " 'LG-Nexus-5x',\n",
       " 'Samsung-Galaxy-S4',\n",
       " 'Motorola-Droid-Maxx',\n",
       " 'Motorola-X']"
      ]
     },
     "execution_count": 10,
     "metadata": {},
     "output_type": "execute_result"
    }
   ],
   "source": [
    "labels_name"
   ]
  },
  {
   "cell_type": "code",
   "execution_count": 11,
   "metadata": {
    "collapsed": true
   },
   "outputs": [],
   "source": [
    "from sklearn.preprocessing import LabelEncoder"
   ]
  },
  {
   "cell_type": "code",
   "execution_count": 30,
   "metadata": {
    "collapsed": true
   },
   "outputs": [],
   "source": [
    "encoder = LabelEncoder()"
   ]
  },
  {
   "cell_type": "code",
   "execution_count": 31,
   "metadata": {
    "collapsed": true
   },
   "outputs": [],
   "source": [
    "new_labels = encoder.fit_transform(labels_name)"
   ]
  },
  {
   "cell_type": "code",
   "execution_count": 32,
   "metadata": {},
   "outputs": [
    {
     "data": {
      "text/plain": [
       "array([9, 0, 3, 7, 8, 5, 1, 6, 2, 4])"
      ]
     },
     "execution_count": 32,
     "metadata": {},
     "output_type": "execute_result"
    }
   ],
   "source": [
    "new_labels"
   ]
  },
  {
   "cell_type": "code",
   "execution_count": 33,
   "metadata": {},
   "outputs": [
    {
     "name": "stdout",
     "output_type": "stream",
     "text": [
      "iPhone-6 ========== 9\n",
      "HTC-1-M7 ========== 0\n",
      "Motorola-Nexus-6 ========== 3\n",
      "Sony-NEX-7 ========== 7\n",
      "iPhone-4s ========== 8\n",
      "Samsung-Galaxy-Note3 ========== 5\n",
      "LG-Nexus-5x ========== 1\n",
      "Samsung-Galaxy-S4 ========== 6\n",
      "Motorola-Droid-Maxx ========== 2\n",
      "Motorola-X ========== 4\n"
     ]
    }
   ],
   "source": [
    "for label, num in zip(labels_name, new_labels):\n",
    "    print(label,'==========', num)"
   ]
  },
  {
   "cell_type": "code",
   "execution_count": 44,
   "metadata": {
    "collapsed": true
   },
   "outputs": [],
   "source": [
    "files_list = []\n",
    "for files in os.walk('./data/train/'):\n",
    "    for file in files[2]:\n",
    "        if '.jpg' in file or '.JPG' in file:\n",
    "            files_list.append([os.path.join(files[0],file), encoder.transform([files[0].split('train/')[1]])[0]])"
   ]
  },
  {
   "cell_type": "code",
   "execution_count": 46,
   "metadata": {
    "collapsed": true
   },
   "outputs": [],
   "source": [
    "files_list = np.array(files_list)"
   ]
  },
  {
   "cell_type": "code",
   "execution_count": 48,
   "metadata": {},
   "outputs": [
    {
     "data": {
      "text/plain": [
       "array(['./data/train/iPhone-6/(iP6)53.jpg',\n",
       "       './data/train/iPhone-6/(iP6)245.jpg',\n",
       "       './data/train/iPhone-6/(iP6)168.jpg', ...,\n",
       "       './data/train/Motorola-X/(MotoX)229.jpg',\n",
       "       './data/train/Motorola-X/(MotoX)139.jpg',\n",
       "       './data/train/Motorola-X/(MotoX)191.jpg'],\n",
       "      dtype='<U51')"
      ]
     },
     "execution_count": 48,
     "metadata": {},
     "output_type": "execute_result"
    }
   ],
   "source": [
    "files_list[:,0]"
   ]
  },
  {
   "cell_type": "code",
   "execution_count": 51,
   "metadata": {
    "collapsed": true
   },
   "outputs": [],
   "source": [
    "folder = StratifiedKFold(n_splits=5, random_state=13)"
   ]
  },
  {
   "cell_type": "code",
   "execution_count": 60,
   "metadata": {
    "collapsed": true
   },
   "outputs": [],
   "source": [
    "for i, (train_ind, val_ind) in enumerate(folder.split(files_list[:,0], files_list[:,1])):\n",
    "    np.save('./split_folds/{}_train.npy'.format(i), files_list[train_ind])\n",
    "    np.save('./split_folds/{}_val.npy'.format(i), files_list[val_ind])"
   ]
  },
  {
   "cell_type": "code",
   "execution_count": null,
   "metadata": {
    "collapsed": true
   },
   "outputs": [],
   "source": []
  }
 ],
 "metadata": {
  "kernelspec": {
   "display_name": "Python 3",
   "language": "python",
   "name": "python3"
  },
  "language_info": {
   "codemirror_mode": {
    "name": "ipython",
    "version": 3
   },
   "file_extension": ".py",
   "mimetype": "text/x-python",
   "name": "python",
   "nbconvert_exporter": "python",
   "pygments_lexer": "ipython3",
   "version": "3.6.2"
  }
 },
 "nbformat": 4,
 "nbformat_minor": 2
}
